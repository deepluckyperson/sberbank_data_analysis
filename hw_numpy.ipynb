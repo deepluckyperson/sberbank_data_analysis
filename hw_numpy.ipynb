{
  "nbformat": 4,
  "nbformat_minor": 0,
  "metadata": {
    "kernelspec": {
      "display_name": "Python 3",
      "language": "python",
      "name": "python3"
    },
    "language_info": {
      "codemirror_mode": {
        "name": "ipython",
        "version": 3
      },
      "file_extension": ".py",
      "mimetype": "text/x-python",
      "name": "python",
      "nbconvert_exporter": "python",
      "pygments_lexer": "ipython3",
      "version": "3.6.8"
    },
    "colab": {
      "name": "hw_numpy.ipynb",
      "provenance": [],
      "collapsed_sections": [],
      "toc_visible": true
    }
  },
  "cells": [
    {
      "cell_type": "markdown",
      "metadata": {
        "id": "cauCVfaOLUfH"
      },
      "source": [
        "### Упражнение 1\n",
        "\n",
        "На одном графике изобразите время затраченное на вычисление с использованием массивов numpy и стандартных списков в питоне.  \n",
        "Для более точных результатов замеряйте время выполнения функции несколько раз и усредняйте. \n",
        "* Используйте функцию `z = 2*x**2 + 4*y`\n",
        "* Перемножение матриц размера n на n"
      ]
    },
    {
      "cell_type": "code",
      "metadata": {
        "id": "yvzo7ZKT2gYu"
      },
      "source": [
        "import time\n",
        "import numpy as np"
      ],
      "execution_count": null,
      "outputs": []
    },
    {
      "cell_type": "code",
      "metadata": {
        "id": "vH3exF6aLUN1"
      },
      "source": [
        "def func(x, y):\n",
        "  return 2*x**2 + 4*y"
      ],
      "execution_count": null,
      "outputs": []
    },
    {
      "cell_type": "code",
      "metadata": {
        "id": "8TzwjTudLTat"
      },
      "source": [
        "x = [-5, -4, -3, -2, -1, 0, 1, 2, 3, 4, 5]\n",
        "y = [-5, -4, -3, -2, -1, 0, 1, 2, 3, 4, 5]\n",
        "x_np = np.array(x)\n",
        "y_np = np.array(y)\n",
        "list_time = 0\n",
        "np_time = 0\n",
        "\n",
        "for i in range(500):\n",
        "\n",
        "  start_time_list = time.time()\n",
        "  for xi, yi in zip(x, y):\n",
        "    func(xi, yi)\n",
        "  list_time = list_time + time.time() - start_time_list\n",
        "  \n",
        "  start_time_np = time.time()\n",
        "  func(x_np, y_np)\n",
        "  np_time = np_time + time.time() - start_time_np"
      ],
      "execution_count": null,
      "outputs": []
    },
    {
      "cell_type": "code",
      "metadata": {
        "colab": {
          "base_uri": "https://localhost:8080/",
          "height": 276
        },
        "id": "PWC-E0oQKul4",
        "outputId": "c19a4ce7-bd07-4cdd-c9a9-8ca1c444c65a"
      },
      "source": [
        "import matplotlib.pyplot as plt\n",
        "\n",
        "plt.bar(x = ['np', 'list'], height = [np_time/500, list_time/500])\n",
        "plt.show()"
      ],
      "execution_count": null,
      "outputs": [
        {
          "output_type": "display_data",
          "data": {
            "image/png": "[encoded data removed]",
            "text/plain": [
              "<Figure size 432x288 with 1 Axes>"
            ]
          },
          "metadata": {
            "tags": [],
            "needs_background": "light"
          }
        }
      ]
    },
    {
      "cell_type": "code",
      "metadata": {
        "id": "aPb0Wr71L9pb"
      },
      "source": [
        "def create_matr_n(n):\n",
        "  res = [[i+j for i in range(n)] for j in range(n)]\n",
        "  return res\n",
        "\n",
        "def matr_mult(a, b):\n",
        "  res = [[0 for i in range(len(a))] for j in range(len(b))]\n",
        "  sum = 0\n",
        "  for i in range(len(a)):\n",
        "    for j in range(len(b)):\n",
        "      for n in range(len(a)):\n",
        "        sum = sum + a[i][n]*b[n][j]\n",
        "      res[i][j] = sum\n",
        "      sum = 0\n",
        "  return res"
      ],
      "execution_count": null,
      "outputs": []
    },
    {
      "cell_type": "code",
      "metadata": {
        "colab": {
          "base_uri": "https://localhost:8080/",
          "height": 276
        },
        "id": "SpD6n0KLOFuK",
        "outputId": "23692550-f261-412b-cb87-d77be81b81ff"
      },
      "source": [
        "a = create_matr_n(5)\n",
        "b = create_matr_n(5)\n",
        "\n",
        "a_np = np.array(a)\n",
        "b_np = np.array(b)\n",
        "for i in range(500):\n",
        "  start_time = time.time()\n",
        "  matr_mult(a, b)\n",
        "  list_time = list_time + time.time() - start_time\n",
        "\n",
        "  start_time = time.time()\n",
        "  res = np.matmul(a_np, b_np)\n",
        "  np_time = np_time + time.time() - start_time\n",
        "\n",
        "plt.bar(x = ['np', 'list'], height = [np_time/500, list_time/500])\n",
        "plt.show()"
      ],
      "execution_count": null,
      "outputs": [
        {
          "output_type": "display_data",
          "data": {
            "image/png": "[encoded data removed]",
            "text/plain": [
              "<Figure size 432x288 with 1 Axes>"
            ]
          },
          "metadata": {
            "tags": [],
            "needs_background": "light"
          }
        }
      ]
    },
    {
      "cell_type": "markdown",
      "metadata": {
        "id": "Sp9JMjCaLUfO"
      },
      "source": [
        "### Упражнение 2\n",
        "* Создайте массив чисел от 2 до 75. Выведите только нечётные. \n",
        "* Присвойте нечётным числам этого массива значение -1.\n",
        "\n"
      ]
    },
    {
      "cell_type": "code",
      "metadata": {
        "colab": {
          "base_uri": "https://localhost:8080/"
        },
        "id": "hipL3T0kQc4v",
        "outputId": "0f0c1e5b-11b1-4b0b-99f7-593ce3b44154"
      },
      "source": [
        "ex_2 = [i for i in range(2,76)]\n",
        "print([i for i in ex_2 if i%2!=0])\n",
        "for i in range(len(ex_2)):\n",
        "  if ex_2[i]%2!=0:\n",
        "    ex_2[i] = -1"
      ],
      "execution_count": null,
      "outputs": [
        {
          "output_type": "stream",
          "text": [
            "[3, 5, 7, 9, 11, 13, 15, 17, 19, 21, 23, 25, 27, 29, 31, 33, 35, 37, 39, 41, 43, 45, 47, 49, 51, 53, 55, 57, 59, 61, 63, 65, 67, 69, 71, 73, 75]\n"
          ],
          "name": "stdout"
        }
      ]
    },
    {
      "cell_type": "markdown",
      "metadata": {
        "id": "Ms-IXaBQLUfP"
      },
      "source": [
        "### Упражнение 3\n",
        "\n",
        "* Найдите в документации функцию, которая удаляет из одного массива элементы, которые есть в другом. \n",
        "* Приведите примеры использования."
      ]
    },
    {
      "cell_type": "code",
      "metadata": {
        "colab": {
          "base_uri": "https://localhost:8080/"
        },
        "id": "RppW65RyRTs2",
        "outputId": "bfed1baa-9de1-4059-d852-fc7653a8f973"
      },
      "source": [
        "ex_2_copy = [i for i in range(2,76)]\n",
        "ex_2_odd = [i for i in ex_2_copy if i%2!=0]\n",
        "print(np.delete(ex_2_copy, [i for i in range(len(ex_2_copy)) if np.isin(ex_2_copy, ex_2_odd)[i]]))\n",
        "\n",
        "a = np.array([1, 2, 3, 2, 4, 1])\n",
        "b = np.array([3, 4, 5, 6])\n",
        "print(np.delete(a, [i for i in range(len(a)) if np.isin(a, b)[i]]))"
      ],
      "execution_count": null,
      "outputs": [
        {
          "output_type": "stream",
          "text": [
            "[ 2  4  6  8 10 12 14 16 18 20 22 24 26 28 30 32 34 36 38 40 42 44 46 48\n",
            " 50 52 54 56 58 60 62 64 66 68 70 72 74]\n",
            "[1 2 2 1]\n"
          ],
          "name": "stdout"
        }
      ]
    },
    {
      "cell_type": "markdown",
      "metadata": {
        "id": "sSEsR_vWLUfP"
      },
      "source": [
        "### Упражнение 4\n",
        "\n",
        "* Создайте случайную квадратную матрицу случайного размера от 10 до 100. \n",
        "* Найдите максимум и сумму элементов.\n",
        "* Поделите каждый элемент матрицы на максимум.\n",
        "* Отнимите от каждой строки матрицы среднее по строке.\n",
        "* Замените максимальное значение на -1."
      ]
    },
    {
      "cell_type": "code",
      "metadata": {
        "id": "1ds0lR9cclFF"
      },
      "source": [
        "import random\n",
        "\n",
        "def create_matr_n():\n",
        "  n = int(random.randint(10,100))\n",
        "  res = [[random.randint(10,100) for i in range(n)] for j in range(n)]\n",
        "  return res"
      ],
      "execution_count": null,
      "outputs": []
    },
    {
      "cell_type": "code",
      "metadata": {
        "colab": {
          "base_uri": "https://localhost:8080/"
        },
        "id": "NrVULQPIc_sl",
        "outputId": "e4e89050-43f3-45c6-ee43-ee3cd9748896"
      },
      "source": [
        "a = np.array(create_matr_n())\n",
        "a"
      ],
      "execution_count": null,
      "outputs": [
        {
          "output_type": "execute_result",
          "data": {
            "text/plain": [
              "array([[91, 94, 64, ..., 38, 95, 66],\n",
              "       [26, 17, 90, ..., 55, 73, 42],\n",
              "       [75, 83, 73, ..., 59, 15, 23],\n",
              "       ...,\n",
              "       [56, 62, 92, ..., 36, 90, 81],\n",
              "       [67, 88, 97, ..., 64, 23, 90],\n",
              "       [42, 92, 14, ..., 13, 45, 22]])"
            ]
          },
          "metadata": {
            "tags": []
          },
          "execution_count": 10
        }
      ]
    },
    {
      "cell_type": "code",
      "metadata": {
        "colab": {
          "base_uri": "https://localhost:8080/"
        },
        "id": "lEJ6ddCCdd6U",
        "outputId": "1a69e6e5-6a32-42e1-e32a-54bf6924949e"
      },
      "source": [
        "np.max(a)"
      ],
      "execution_count": null,
      "outputs": [
        {
          "output_type": "execute_result",
          "data": {
            "text/plain": [
              "100"
            ]
          },
          "metadata": {
            "tags": []
          },
          "execution_count": 11
        }
      ]
    },
    {
      "cell_type": "code",
      "metadata": {
        "colab": {
          "base_uri": "https://localhost:8080/"
        },
        "id": "0jx3AhokdgXD",
        "outputId": "a452a08e-a17e-4113-96ad-b1a1f94f8ad2"
      },
      "source": [
        "np.sum(a)"
      ],
      "execution_count": null,
      "outputs": [
        {
          "output_type": "execute_result",
          "data": {
            "text/plain": [
              "252326"
            ]
          },
          "metadata": {
            "tags": []
          },
          "execution_count": 12
        }
      ]
    },
    {
      "cell_type": "code",
      "metadata": {
        "colab": {
          "base_uri": "https://localhost:8080/"
        },
        "id": "gLgiUdfcdlQb",
        "outputId": "120a634a-871c-42a0-8614-a37e10ad8ca0"
      },
      "source": [
        "b = a/np.max(a)\n",
        "b"
      ],
      "execution_count": null,
      "outputs": [
        {
          "output_type": "execute_result",
          "data": {
            "text/plain": [
              "array([[0.91, 0.94, 0.64, ..., 0.38, 0.95, 0.66],\n",
              "       [0.26, 0.17, 0.9 , ..., 0.55, 0.73, 0.42],\n",
              "       [0.75, 0.83, 0.73, ..., 0.59, 0.15, 0.23],\n",
              "       ...,\n",
              "       [0.56, 0.62, 0.92, ..., 0.36, 0.9 , 0.81],\n",
              "       [0.67, 0.88, 0.97, ..., 0.64, 0.23, 0.9 ],\n",
              "       [0.42, 0.92, 0.14, ..., 0.13, 0.45, 0.22]])"
            ]
          },
          "metadata": {
            "tags": []
          },
          "execution_count": 13
        }
      ]
    },
    {
      "cell_type": "code",
      "metadata": {
        "colab": {
          "base_uri": "https://localhost:8080/"
        },
        "id": "ZXQnOpSbeElK",
        "outputId": "e12a6d1b-4679-47ef-c349-f26cacf1f3ec"
      },
      "source": [
        "c = np.copy(a)\n",
        "for i in range(a.shape[0]):\n",
        "  c[i] = a[i] - np.average(a[i])\n",
        "print(c)"
      ],
      "execution_count": null,
      "outputs": [
        {
          "output_type": "stream",
          "text": [
            "[[ 35  38   8 ... -17  39  10]\n",
            " [-32 -41  31 ...  -3  14 -16]\n",
            " [ 16  24  14 ...   0 -44 -36]\n",
            " ...\n",
            " [ -1   4  34 ... -21  32  23]\n",
            " [ 12  33  42 ...   9 -31  35]\n",
            " [ -6  43 -34 ... -35  -3 -26]]\n"
          ],
          "name": "stdout"
        }
      ]
    },
    {
      "cell_type": "code",
      "metadata": {
        "colab": {
          "base_uri": "https://localhost:8080/"
        },
        "id": "PJxlOTtogIcg",
        "outputId": "b36cdaa5-8aab-40f7-cb80-fac25935fa1e"
      },
      "source": [
        "print(np.where(a == np.max(a), -1, a))"
      ],
      "execution_count": null,
      "outputs": [
        {
          "output_type": "stream",
          "text": [
            "[[91 94 64 ... 38 95 66]\n",
            " [26 17 90 ... 55 73 42]\n",
            " [75 83 73 ... 59 15 23]\n",
            " ...\n",
            " [56 62 92 ... 36 90 81]\n",
            " [67 88 97 ... 64 23 90]\n",
            " [42 92 14 ... 13 45 22]]\n"
          ],
          "name": "stdout"
        }
      ]
    },
    {
      "cell_type": "markdown",
      "metadata": {
        "id": "aYDBuzqyLUfQ"
      },
      "source": [
        "### Упражнение 5\n",
        "* Напишите функцию, которая берет многомерный вещественный массив с пропущенными значениями (np.nan) и возвращает его копию с заполненными пропусками (заменять средним значением всех элементов массива). Если в массиве одни пропущенные значения, заполните их нулями."
      ]
    },
    {
      "cell_type": "code",
      "metadata": {
        "id": "nX8cMlNhgeVQ"
      },
      "source": [
        "def handna(n):\n",
        "  if np.all(np.isnan(n)):\n",
        "    n = np.nan_to_num(n,nan = 0)\n",
        "  else:\n",
        "    n = np.nan_to_num(n, nan = np.average(np.nan_to_num(n)))\n",
        "  return n"
      ],
      "execution_count": null,
      "outputs": []
    },
    {
      "cell_type": "code",
      "metadata": {
        "id": "T2f4P4Uih-rH"
      },
      "source": [
        "n = np.array([[[1, np.nan, np.nan, np.nan]],\n",
        "     [[np.nan, np.nan, np.nan, np.nan]],\n",
        "     [[np.nan, np.nan, np.nan, np.nan]]])"
      ],
      "execution_count": null,
      "outputs": []
    },
    {
      "cell_type": "code",
      "metadata": {
        "colab": {
          "base_uri": "https://localhost:8080/"
        },
        "id": "DRvJSrdDiad_",
        "outputId": "12efe04f-db64-4f6a-d9dd-d1d07b32a803"
      },
      "source": [
        "handna(n)"
      ],
      "execution_count": null,
      "outputs": [
        {
          "output_type": "execute_result",
          "data": {
            "text/plain": [
              "array([[[1.        , 0.08333333, 0.08333333, 0.08333333]],\n",
              "\n",
              "       [[0.08333333, 0.08333333, 0.08333333, 0.08333333]],\n",
              "\n",
              "       [[0.08333333, 0.08333333, 0.08333333, 0.08333333]]])"
            ]
          },
          "metadata": {
            "tags": []
          },
          "execution_count": 18
        }
      ]
    },
    {
      "cell_type": "markdown",
      "metadata": {
        "id": "TgAnT86MLUfQ"
      },
      "source": [
        "### Упражнение 6\n",
        "* Напишите функцию которая нормализирует заданный numpy-массив, так чтобы его значения лежали в интервале $[0, 1]$."
      ]
    },
    {
      "cell_type": "code",
      "metadata": {
        "id": "aE3D9nXak9Q8"
      },
      "source": [
        "def normalize(a):\n",
        "  return a/np.max(a)"
      ],
      "execution_count": null,
      "outputs": []
    },
    {
      "cell_type": "code",
      "metadata": {
        "colab": {
          "base_uri": "https://localhost:8080/"
        },
        "id": "VuDktrb5lKck",
        "outputId": "99ad8072-c469-474e-a8f5-7425dced6b41"
      },
      "source": [
        "a = np.where(a == np.max(a), -1, a)\n",
        "normalize(a)"
      ],
      "execution_count": null,
      "outputs": [
        {
          "output_type": "execute_result",
          "data": {
            "text/plain": [
              "array([[0.91919192, 0.94949495, 0.64646465, ..., 0.38383838, 0.95959596,\n",
              "        0.66666667],\n",
              "       [0.26262626, 0.17171717, 0.90909091, ..., 0.55555556, 0.73737374,\n",
              "        0.42424242],\n",
              "       [0.75757576, 0.83838384, 0.73737374, ..., 0.5959596 , 0.15151515,\n",
              "        0.23232323],\n",
              "       ...,\n",
              "       [0.56565657, 0.62626263, 0.92929293, ..., 0.36363636, 0.90909091,\n",
              "        0.81818182],\n",
              "       [0.67676768, 0.88888889, 0.97979798, ..., 0.64646465, 0.23232323,\n",
              "        0.90909091],\n",
              "       [0.42424242, 0.92929293, 0.14141414, ..., 0.13131313, 0.45454545,\n",
              "        0.22222222]])"
            ]
          },
          "metadata": {
            "tags": []
          },
          "execution_count": 20
        }
      ]
    },
    {
      "cell_type": "markdown",
      "metadata": {
        "id": "3TClCzZTLUfQ"
      },
      "source": [
        "### Упражнение 7\n",
        "* Запишите numpy-array в файл.\n",
        "* Считайте numpy-array из файла."
      ]
    },
    {
      "cell_type": "code",
      "metadata": {
        "colab": {
          "base_uri": "https://localhost:8080/"
        },
        "id": "Rig1oVsHlWQr",
        "outputId": "6411bbc3-613b-47d5-c947-ee602718b053"
      },
      "source": [
        "np.save('/content/sample_data/123', a)\n",
        "data = np.load('/content/sample_data/123.npy')\n",
        "data"
      ],
      "execution_count": null,
      "outputs": [
        {
          "output_type": "execute_result",
          "data": {
            "text/plain": [
              "array([[91, 94, 64, ..., 38, 95, 66],\n",
              "       [26, 17, 90, ..., 55, 73, 42],\n",
              "       [75, 83, 73, ..., 59, 15, 23],\n",
              "       ...,\n",
              "       [56, 62, 92, ..., 36, 90, 81],\n",
              "       [67, 88, 97, ..., 64, 23, 90],\n",
              "       [42, 92, 14, ..., 13, 45, 22]])"
            ]
          },
          "metadata": {
            "tags": []
          },
          "execution_count": 21
        }
      ]
    },
    {
      "cell_type": "markdown",
      "metadata": {
        "id": "XJz2KsowLUfR"
      },
      "source": [
        "### Упражнение 8\n",
        "* Создайте случайный массив\n",
        "* Найдите в массиве элемент ближайший к данному"
      ]
    },
    {
      "cell_type": "code",
      "metadata": {
        "id": "qgdQ9tpfZYAc"
      },
      "source": [
        "def find_closest(x, n):\n",
        "  r = abs(n - x)\n",
        "  return np.where(r == np.min(r))"
      ],
      "execution_count": null,
      "outputs": []
    },
    {
      "cell_type": "code",
      "metadata": {
        "colab": {
          "base_uri": "https://localhost:8080/"
        },
        "id": "VtiGkZsOXc16",
        "outputId": "6fc19f48-88fd-4162-89d4-2e1297655274"
      },
      "source": [
        "rand = np.array(create_matr_n())\n",
        "x = float(input('Enter element: '))\n",
        "find_closest(x, rand)"
      ],
      "execution_count": null,
      "outputs": [
        {
          "output_type": "stream",
          "text": [
            "Enter element: 4\n"
          ],
          "name": "stdout"
        },
        {
          "output_type": "execute_result",
          "data": {
            "text/plain": [
              "(array([ 0,  0,  2,  3,  4,  4,  4,  5,  6, 11, 12, 12, 17, 19, 19, 21, 23,\n",
              "        24, 24, 26, 26, 27, 28, 28, 29, 29, 30, 32, 35, 36, 36, 40, 43, 45,\n",
              "        47, 50, 51, 53, 55, 56, 56, 57, 57, 57, 59]),\n",
              " array([37, 51, 54,  1, 14, 19, 38, 35, 24, 36, 12, 39, 10, 11, 38, 15,  4,\n",
              "        24, 58, 31, 50, 27, 19, 36, 55, 59, 21, 19, 29, 22, 36, 31,  0, 14,\n",
              "        13, 18, 48,  5, 25, 10, 30,  5, 10, 29, 37]))"
            ]
          },
          "metadata": {
            "tags": []
          },
          "execution_count": 23
        }
      ]
    },
    {
      "cell_type": "markdown",
      "metadata": {
        "id": "T-_sIP1cLUfR"
      },
      "source": [
        "### Упражнение 9"
      ]
    },
    {
      "cell_type": "markdown",
      "metadata": {
        "id": "jssjWU5GLUfR"
      },
      "source": [
        "* Напишите функцию, которая возвращает  $n \\times m$ целочисленную матрицу с заданным значением на границах матрицы и с заданным значением внутри"
      ]
    },
    {
      "cell_type": "code",
      "metadata": {
        "id": "wfp2_JqudZ0d"
      },
      "source": [
        "def create_nm_matr(n, m, value_inside = 1, value_outside = 0):\n",
        "  res = [[value_outside if (i==(m-1) or i==0 or j==(n-1) or j==0) else value_inside for i in range(m)] for j in range(n)]\n",
        "  return res"
      ],
      "execution_count": null,
      "outputs": []
    },
    {
      "cell_type": "code",
      "metadata": {
        "colab": {
          "base_uri": "https://localhost:8080/"
        },
        "id": "TKTJZPONe7Lz",
        "outputId": "0be8baef-c23d-4006-e890-f189a8986613"
      },
      "source": [
        "k = create_nm_matr(8, 4)\n",
        "k"
      ],
      "execution_count": null,
      "outputs": [
        {
          "output_type": "execute_result",
          "data": {
            "text/plain": [
              "[[0, 0, 0, 0],\n",
              " [0, 1, 1, 0],\n",
              " [0, 1, 1, 0],\n",
              " [0, 1, 1, 0],\n",
              " [0, 1, 1, 0],\n",
              " [0, 1, 1, 0],\n",
              " [0, 1, 1, 0],\n",
              " [0, 0, 0, 0]]"
            ]
          },
          "metadata": {
            "tags": []
          },
          "execution_count": 25
        }
      ]
    },
    {
      "cell_type": "markdown",
      "metadata": {
        "id": "tgdquiL1LUfR"
      },
      "source": [
        "### Упражнение 10\n",
        "* Напишите функцию, которая сортирует строки данной матрицы по значениям заданного столбца в порядке убывания. "
      ]
    },
    {
      "cell_type": "code",
      "metadata": {
        "id": "pCFdNnkcfTcD"
      },
      "source": [
        "def sort_by_column(n, i):\n",
        "  return n[list(reversed(n[:, i].argsort()))]"
      ],
      "execution_count": null,
      "outputs": []
    },
    {
      "cell_type": "code",
      "metadata": {
        "colab": {
          "base_uri": "https://localhost:8080/"
        },
        "id": "tXjJz68xg2eB",
        "outputId": "437c635c-2441-4057-edc2-81bd15b808ae"
      },
      "source": [
        "sort_by_column(rand, 0)"
      ],
      "execution_count": null,
      "outputs": [
        {
          "output_type": "execute_result",
          "data": {
            "text/plain": [
              "array([[96, 46, 46, ..., 46, 93, 18],\n",
              "       [94, 99, 43, ..., 93, 92, 17],\n",
              "       [94, 61, 71, ..., 64, 30, 47],\n",
              "       ...,\n",
              "       [13, 18, 81, ..., 74, 66, 92],\n",
              "       [12, 40, 39, ..., 59, 12, 47],\n",
              "       [10, 62, 81, ..., 93, 51, 14]])"
            ]
          },
          "metadata": {
            "tags": []
          },
          "execution_count": 27
        }
      ]
    },
    {
      "cell_type": "markdown",
      "metadata": {
        "id": "XJhiRth3LUfS"
      },
      "source": [
        "### Упражнение 11\n",
        "\n",
        "* Напишите функцию, которая создает двоичную матрицу шахматной доски с заданным shape\n",
        "\n",
        "Пример 4x4:\n",
        "```python\n",
        "[[0, 1, 0, 1],\n",
        " [1, 0, 1, 0],\n",
        " [0, 1, 0, 1],\n",
        " [1, 0, 1, 0]]\n",
        "```"
      ]
    },
    {
      "cell_type": "code",
      "metadata": {
        "id": "dfoJzLJShe7D"
      },
      "source": [
        "def create_chess(shape):\n",
        "  res = [[0 if ((i+j)%2==0) else 1 for i in range(shape[1])] for j in range(shape[0])]\n",
        "  return res"
      ],
      "execution_count": null,
      "outputs": []
    },
    {
      "cell_type": "code",
      "metadata": {
        "colab": {
          "base_uri": "https://localhost:8080/"
        },
        "id": "s94px9iAiUeK",
        "outputId": "f3ad1031-757e-4a84-c654-f4efd218ebcd"
      },
      "source": [
        "chess = create_chess([5, 8])\n",
        "chess"
      ],
      "execution_count": null,
      "outputs": [
        {
          "output_type": "execute_result",
          "data": {
            "text/plain": [
              "[[0, 1, 0, 1, 0, 1, 0, 1],\n",
              " [1, 0, 1, 0, 1, 0, 1, 0],\n",
              " [0, 1, 0, 1, 0, 1, 0, 1],\n",
              " [1, 0, 1, 0, 1, 0, 1, 0],\n",
              " [0, 1, 0, 1, 0, 1, 0, 1]]"
            ]
          },
          "metadata": {
            "tags": []
          },
          "execution_count": 35
        }
      ]
    },
    {
      "cell_type": "markdown",
      "metadata": {
        "id": "NPmjcYkDLUfS"
      },
      "source": [
        "### Упражнение 12\n",
        "* Напишите игру [life](https://en.wikipedia.org/wiki/Conway%27s_Game_of_Life), используя массивы numpy.\n",
        "* Визуализируйте интерактивно ее результаты.\n",
        "\n"
      ]
    },
    {
      "cell_type": "code",
      "metadata": {
        "id": "OlsKQNdphhqk"
      },
      "source": [
        "def create_first_gen(shape):\n",
        "  res = [[round(random.random()) for i in range(shape[1])] for j in range(shape[0])]\n",
        "  return np.array(res)"
      ],
      "execution_count": null,
      "outputs": []
    },
    {
      "cell_type": "code",
      "metadata": {
        "id": "JHyxtX--pkt4"
      },
      "source": [
        "def is_on_north_side(j):\n",
        "  return j==0\n",
        "\n",
        "def is_on_east_side(i):\n",
        "  return i==0\n",
        "\n",
        "def is_on_south_side(n, j):\n",
        "  return j==(n.shape[0]-1)\n",
        "\n",
        "def is_on_west_side(n, i):\n",
        "  return i==(n.shape[1]-1)\n",
        "\n",
        "def is_on_north_east_corner(n, i, j):\n",
        "  return is_on_north_side(j) and is_on_east_side(i)\n",
        "\n",
        "def is_on_north_west_corner(n, i, j):\n",
        "  return is_on_north_side(j) and is_on_west_side(n, i)\n",
        "\n",
        "def is_on_south_east_corner(n, i, j):\n",
        "  return is_on_south_side(n, j) and is_on_east_side(i)\n",
        "\n",
        "def is_on_south_west_corner(n, i, j):\n",
        "  return is_on_south_side(n, j) and is_on_west_side(n, i)"
      ],
      "execution_count": null,
      "outputs": []
    },
    {
      "cell_type": "code",
      "metadata": {
        "id": "6zkdL1xMoFR2"
      },
      "source": [
        "#Здесь описан замкнутый вариант игры, есть еще открытый, т е бесконечный, для его реализации нужно просто внести правки в суммы (добавить недостающие)\n",
        "\n",
        "def sum_around(n, i, j):\n",
        "  if is_on_north_east_corner(n, i, j):\n",
        "    return n[i+1][j] + n[i+1][j+1] + n[i][j+1]\n",
        "  if is_on_north_west_corner(n, i, j):\n",
        "    return n[i-1, j] + n[i-1, j+1] + n[i, j+1]\n",
        "  if is_on_south_east_corner(n, i, j):\n",
        "    return n[i+1, j] + n[i+1, j-1] + n[i, j-1]\n",
        "  if is_on_south_west_corner(n, i, j):\n",
        "    return n[i-1, j] + n[i-1, j-1] + n[i, j-1]\n",
        "  if is_on_north_side(j):\n",
        "    return n[i-1, j] + n[i-1, j+1] + n[i, j+1] + n[i+1, j+1] + n[i+1, j]\n",
        "  if is_on_east_side(i):\n",
        "    return n[i, j+1] + n[i+1, j+1] + n[i+1, j] + n[i+1, j-1] + n[i, j-1]\n",
        "  if is_on_south_side(n, j):\n",
        "    return n[i+1, j] + n[i+1, j-1] + n[i, j-1] + n[i-1, j-1] + n[i-1, j]\n",
        "  if is_on_west_side(n, i):\n",
        "    return n[i, j-1] + n[i-1, j-1] + n[i-1, j] + n[i-1, j+1] + n[i, j+1]"
      ],
      "execution_count": null,
      "outputs": []
    },
    {
      "cell_type": "code",
      "metadata": {
        "id": "3zkOiKxcmtLN"
      },
      "source": [
        "def next_gen(prev_gen):\n",
        "  res = [[1 if (((not prev_gen[i, j]) and sum_around(prev_gen, i, j)==3) or \n",
        "                (prev_gen[i, j] and (sum_around(prev_gen, i, j)==3 or sum_around(prev_gen, i, j)==2))) else 0 \n",
        "            for i in range(prev_gen.shape[1])] for j in range(prev_gen.shape[0])]\n",
        "  return np.array(res)"
      ],
      "execution_count": null,
      "outputs": []
    },
    {
      "cell_type": "code",
      "metadata": {
        "colab": {
          "base_uri": "https://localhost:8080/",
          "height": 282
        },
        "id": "KEzJnPkSycbC",
        "outputId": "d88e8e88-2f7e-44e7-f2b3-342655362206"
      },
      "source": [
        "import os\n",
        "from IPython.display import clear_output\n",
        "import time\n",
        "\n",
        "gen = create_first_gen([20, 20])\n",
        "prev_gen = np.zeros(gen.shape)\n",
        "while True:\n",
        "  clear_output()\n",
        "  plt.imshow(gen)\n",
        "  plt.show()\n",
        "  time.sleep(2)\n",
        "  if np.sum(gen)!=0:\n",
        "    prev_prev_gen = prev_gen\n",
        "    prev_gen=gen\n",
        "    gen = next_gen(gen)\n",
        "  else:\n",
        "    print('Game over')\n",
        "    break\n",
        "  if ((np.all(gen == prev_gen)) or (np.all(gen == prev_prev_gen))):\n",
        "    print('Game over')\n",
        "    break"
      ],
      "execution_count": null,
      "outputs": [
        {
          "output_type": "display_data",
          "data": {
            "image/png": "[encoded data removed]",
            "text/plain": [
              "<Figure size 432x288 with 1 Axes>"
            ]
          },
          "metadata": {
            "tags": [],
            "needs_background": "light"
          }
        },
        {
          "output_type": "stream",
          "text": [
            "Game over\n"
          ],
          "name": "stdout"
        }
      ]
    }
  ]
}